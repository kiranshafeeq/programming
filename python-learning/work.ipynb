{
 "cells": [
  {
   "cell_type": "code",
   "execution_count": 9,
   "metadata": {},
   "outputs": [
    {
     "name": "stdout",
     "output_type": "stream",
     "text": [
      "['apple', 'orange', 'cherry']\n"
     ]
    }
   ],
   "source": [
    "fruit=['apple','orange','cherry']\n",
    "print(fruit)"
   ]
  },
  {
   "cell_type": "code",
   "execution_count": 10,
   "metadata": {},
   "outputs": [
    {
     "name": "stdout",
     "output_type": "stream",
     "text": [
      "apple\n",
      "orange\n",
      "cherry\n"
     ]
    }
   ],
   "source": [
    "for x in fruit:\n",
    "    print(x)"
   ]
  },
  {
   "cell_type": "code",
   "execution_count": 16,
   "metadata": {},
   "outputs": [
    {
     "name": "stdout",
     "output_type": "stream",
     "text": [
      "APPLE\n",
      "kiran\n",
      "ORANGE\n",
      "kiran\n",
      "CHERRY\n",
      "kiran\n",
      "kamran\n"
     ]
    }
   ],
   "source": [
    "\n",
    "for x in fruit:\n",
    "    print(x.upper())\n",
    "    print('kiran')\n",
    "\n",
    "print('kamran')"
   ]
  },
  {
   "cell_type": "code",
   "execution_count": 17,
   "metadata": {},
   "outputs": [
    {
     "name": "stdout",
     "output_type": "stream",
     "text": [
      "2-kamran\n",
      "4-kamran\n",
      "6-kamran\n",
      "8-kamran\n"
     ]
    }
   ],
   "source": [
    "#range(start(defult =0),end, step(defult =1))\n",
    "for i in range(2, 10, 2):\n",
    "    print(f'{i}-kamran')"
   ]
  },
  {
   "cell_type": "code",
   "execution_count": 19,
   "metadata": {},
   "outputs": [
    {
     "name": "stdout",
     "output_type": "stream",
     "text": [
      "0 kiran\n",
      "1 kiran\n",
      "2 kiran\n",
      "3 kiran\n",
      "4 kiran\n",
      "5 kiran\n",
      "6 kiran\n",
      "7 kiran\n",
      "8 kiran\n",
      "9 kiran\n"
     ]
    }
   ],
   "source": [
    "for i in range(10):\n",
    "    print(f'{i} kiran')\n"
   ]
  },
  {
   "cell_type": "code",
   "execution_count": null,
   "metadata": {},
   "outputs": [],
   "source": [
    "#int()\n",
    "#float()\n",
    "#bool()\n",
    "#str()\n",
    "\n",
    "#list()\n",
    "#tuple()\n",
    "#dict()"
   ]
  },
  {
   "cell_type": "code",
   "execution_count": 20,
   "metadata": {},
   "outputs": [
    {
     "name": "stdout",
     "output_type": "stream",
     "text": [
      "[0, 4, 8]\n"
     ]
    }
   ],
   "source": [
    "number = list(range(0,11,4))\n",
    "print(number)"
   ]
  },
  {
   "cell_type": "code",
   "execution_count": 25,
   "metadata": {},
   "outputs": [
    {
     "name": "stdout",
     "output_type": "stream",
     "text": [
      "[1]\n",
      "[1, 4]\n",
      "[1, 4, 9]\n",
      "[1, 4, 9, 16]\n",
      "[1, 4, 9, 16, 25]\n"
     ]
    }
   ],
   "source": [
    "number = [1,2,3,4,5]\n",
    "square =[]\n",
    "for x in number:\n",
    "    x = x**2\n",
    "    square.append(x)\n",
    "    print(square)"
   ]
  },
  {
   "cell_type": "code",
   "execution_count": 26,
   "metadata": {},
   "outputs": [
    {
     "name": "stdout",
     "output_type": "stream",
     "text": [
      "[1, 4, 9, 16, 25]\n"
     ]
    }
   ],
   "source": [
    "print(square)"
   ]
  },
  {
   "cell_type": "code",
   "execution_count": 27,
   "metadata": {},
   "outputs": [
    {
     "data": {
      "text/plain": [
       "[1, 4, 9, 16, 25]"
      ]
     },
     "execution_count": 27,
     "metadata": {},
     "output_type": "execute_result"
    }
   ],
   "source": [
    "[x**2 for x in number]"
   ]
  },
  {
   "cell_type": "code",
   "execution_count": 31,
   "metadata": {},
   "outputs": [
    {
     "name": "stdout",
     "output_type": "stream",
     "text": [
      "hello kiran, you are invite for dinner\n",
      "hello kamran, you are invite for dinner\n",
      "hello hiba, you are invite for dinner\n",
      "['kiran', 'kamran', 'hiba']\n",
      "['kiran', 'kamran', 'hiba']\n",
      "['kiran', 'kamran', 'hiba']\n"
     ]
    }
   ],
   "source": [
    "name =['kiran','kamran','hiba']\n",
    "print(f\"hello {name[0]}, you are invite for dinner\")\n",
    "print(f\"hello {name[1]}, you are invite for dinner\")\n",
    "print(f\"hello {name[2]}, you are invite for dinner\")\n",
    "for names in name:\n",
    "    print(f\"{name[])"
   ]
  },
  {
   "cell_type": "code",
   "execution_count": 32,
   "metadata": {},
   "outputs": [],
   "source": [
    "name =['a','b','c']\n",
    "name[1]='e'\n",
    "print"
   ]
  },
  {
   "cell_type": "code",
   "execution_count": null,
   "metadata": {},
   "outputs": [],
   "source": []
  }
 ],
 "metadata": {
  "kernelspec": {
   "display_name": "Python 3",
   "language": "python",
   "name": "python3"
  },
  "language_info": {
   "codemirror_mode": {
    "name": "ipython",
    "version": 3
   },
   "file_extension": ".py",
   "mimetype": "text/x-python",
   "name": "python",
   "nbconvert_exporter": "python",
   "pygments_lexer": "ipython3",
   "version": "3.12.4"
  }
 },
 "nbformat": 4,
 "nbformat_minor": 2
}
