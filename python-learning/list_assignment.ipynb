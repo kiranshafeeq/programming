{
 "cells": [
  {
   "cell_type": "code",
   "execution_count": 4,
   "metadata": {},
   "outputs": [
    {
     "name": "stdout",
     "output_type": "stream",
     "text": [
      "['kiran', 'kamran', 'saira', 'hiba']\n",
      "kiran\n",
      "kamran\n",
      "saira\n",
      "hiba\n"
     ]
    }
   ],
   "source": [
    "name :list = ['kiran','kamran','saira','hiba']\n",
    "print(name)\n",
    "print(name[0])\n",
    "print(name[1])\n",
    "print(name[2])\n",
    "print(name[3])"
   ]
  },
  {
   "cell_type": "code",
   "execution_count": 38,
   "metadata": {},
   "outputs": [
    {
     "name": "stdout",
     "output_type": "stream",
     "text": [
      "hello! kiran, where are you going?\n",
      "hello! kamran,where are you going?\n",
      "hello! saira,where are you going?\n"
     ]
    }
   ],
   "source": [
    "names:list=[\"kiran\",\"kamran\",\"saira\"]\n",
    "print(f\"hello! {names[0]}, where are you going?\")\n",
    "print(f\"hello! {names[1]},where are you going?\")\n",
    "print(f\"hello! {names[2]},where are you going?\")"
   ]
  },
  {
   "cell_type": "code",
   "execution_count": 29,
   "metadata": {},
   "outputs": [
    {
     "name": "stdout",
     "output_type": "stream",
     "text": [
      "I would like to own a BMW 3 Series\n",
      "I would like to own a audi\n",
      "I would like to own a cruiser\n"
     ]
    }
   ],
   "source": [
    "transportation:list=[\"BMW 3 Series\", \"audi\", \"cruiser\"]\n",
    "for vhicle in transportation:\n",
    "    print(f\"I would like to own a {vhicle}\")"
   ]
  },
  {
   "cell_type": "code",
   "execution_count": 40,
   "metadata": {},
   "outputs": [
    {
     "name": "stdout",
     "output_type": "stream",
     "text": [
      "kiran,I want to invite dinner on Friday at 8 PM.\n",
      "kamran,I want to invite dinner on Friday at 8 PM.\n",
      "saira,I want to invite dinner on Friday at 8 PM.\n"
     ]
    }
   ],
   "source": [
    "guests:list=[\"kiran\",\"kamran\",\"saira\"]\n",
    "print(f\"{guests[0]},I want to invite dinner on Friday at 8 PM.\")\n",
    "print(f\"{guests[1]},I want to invite dinner on Friday at 8 PM.\")\n",
    "print(f\"{guests[2]},I want to invite dinner on Friday at 8 PM.\")"
   ]
  },
  {
   "cell_type": "code",
   "execution_count": 45,
   "metadata": {},
   "outputs": [
    {
     "name": "stdout",
     "output_type": "stream",
     "text": [
      "kiran,I want to invite dinner on Friday at 8 PM.\n",
      "kamran,I want to invite dinner on Friday at 8 PM.\n",
      "saira,I want to invite dinner on Friday at 8 PM.\n",
      "unfortunately kiran,can't make a dinner\n",
      "hiba,I want to invite dinner on Friday at 8 PM.\n",
      "kamran,I want to invite dinner on Friday at 8 PM.\n",
      "saira,I want to invite dinner on Friday at 8 PM.\n"
     ]
    }
   ],
   "source": [
    "guests:list=[\"kiran\",\"kamran\",\"saira\"]\n",
    "print(f\"{guests[0]},I want to invite dinner on Friday at 8 PM.\")\n",
    "print(f\"{guests[1]},I want to invite dinner on Friday at 8 PM.\")\n",
    "print(f\"{guests[2]},I want to invite dinner on Friday at 8 PM.\")\n",
    "print(f\"unfortunately {guests[0]},can't make a dinner\")\n",
    "guests[0]=\"hiba\"\n",
    "print(f\"{guests[0]},I want to invite dinner on Friday at 8 PM.\")\n",
    "print(f\"{guests[1]},I want to invite dinner on Friday at 8 PM.\")\n",
    "print(f\"{guests[2]},I want to invite dinner on Friday at 8 PM.\")\n"
   ]
  },
  {
   "cell_type": "code",
   "execution_count": 51,
   "metadata": {},
   "outputs": [
    {
     "name": "stdout",
     "output_type": "stream",
     "text": [
      "kiran,I want to invite dinner on Friday at 8 PM.\n",
      "kamran,I want to invite dinner on Friday at 8 PM.\n",
      "saira,I want to invite dinner on Friday at 8 PM.\n",
      "unfortunately kiran,can't make a dinner\n",
      "hiba,I want to invite dinner on Friday at 8 PM.\n",
      "kamran,I want to invite dinner on Friday at 8 PM.\n",
      "saira,I want to invite dinner on Friday at 8 PM.\n",
      "happy! i found a bigger table.so,i can invite more people\n",
      "Rimsha,I want to still invite dinner on Friday at 8 PM.\n",
      "hiba,I want to still invite dinner on Friday at 8 PM.\n",
      "Rbia,I want to still invite dinner on Friday at 8 PM.\n",
      "kamran,I want to still invite dinner on Friday at 8 PM.\n",
      "saira,I want to still invite dinner on Friday at 8 PM.\n",
      "shabi,I want to still invite dinner on Friday at 8 PM.\n"
     ]
    }
   ],
   "source": [
    "guests:list=[\"kiran\",\"kamran\",\"saira\"]\n",
    "print(f\"{guests[0]},I want to invite dinner on Friday at 8 PM.\")\n",
    "print(f\"{guests[1]},I want to invite dinner on Friday at 8 PM.\")\n",
    "print(f\"{guests[2]},I want to invite dinner on Friday at 8 PM.\")\n",
    "print(f\"unfortunately {guests[0]},can't make a dinner\")\n",
    "guests[0]=\"hiba\"\n",
    "print(f\"{guests[0]},I want to invite dinner on Friday at 8 PM.\")\n",
    "print(f\"{guests[1]},I want to invite dinner on Friday at 8 PM.\")\n",
    "print(f\"{guests[2]},I want to invite dinner on Friday at 8 PM.\")\n",
    "print(f\"happy! i found a bigger table.so,i can invite more people\")\n",
    "guests.insert(0, 'Rimsha')\n",
    "guests.insert(2,'Rbia')\n",
    "guests.append('shabi')\n",
    "print(f\"{guests[0]},I want to still invite dinner on Friday at 8 PM.\")\n",
    "print(f\"{guests[1]},I want to still invite dinner on Friday at 8 PM.\")\n",
    "print(f\"{guests[2]},I want to still invite dinner on Friday at 8 PM.\")\n",
    "print(f\"{guests[3]},I want to still invite dinner on Friday at 8 PM.\")\n",
    "print(f\"{guests[4]},I want to still invite dinner on Friday at 8 PM.\")\n",
    "print(f\"{guests[5]},I want to still invite dinner on Friday at 8 PM.\")\n",
    "\n"
   ]
  },
  {
   "cell_type": "code",
   "execution_count": 4,
   "metadata": {},
   "outputs": [
    {
     "name": "stdout",
     "output_type": "stream",
     "text": [
      "kiran,I want to invite dinner on Friday at 8 PM.\n",
      "kamran,I want to invite dinner on Friday at 8 PM.\n",
      "saira,I want to invite dinner on Friday at 8 PM.\n",
      "unfortunately kiran,can't make a dinner\n",
      "hiba,I want to invite dinner on Friday at 8 PM.\n",
      "kamran,I want to invite dinner on Friday at 8 PM.\n",
      "saira,I want to invite dinner on Friday at 8 PM.\n",
      "happy! i found a bigger table.so,i can invite more people\n",
      "Rimsha,I want to still invite dinner on Friday at 8 PM.\n",
      "hiba,I want to still invite dinner on Friday at 8 PM.\n",
      "Rbia,I want to still invite dinner on Friday at 8 PM.\n",
      "kamran,I want to still invite dinner on Friday at 8 PM.\n",
      "saira,I want to still invite dinner on Friday at 8 PM.\n",
      "sorry,i can invite only two people on dinner\n",
      "sorry shabi, i can't invite you on dinner\n",
      "sorry saira, i can't invite you on dinner\n",
      "sorry kamran, i can't invite you on dinner\n",
      "sorry Rbia, i can't invite you on dinner\n",
      "Dear Rimsha, i can sitll invite you on dinner\n",
      "Dear hiba, i can still invite you on dinner\n",
      "[]\n"
     ]
    }
   ],
   "source": [
    "guests:list=[\"kiran\",\"kamran\",\"saira\"]\n",
    "print(f\"{guests[0]},I want to invite dinner on Friday at 8 PM.\")\n",
    "print(f\"{guests[1]},I want to invite dinner on Friday at 8 PM.\")\n",
    "print(f\"{guests[2]},I want to invite dinner on Friday at 8 PM.\")\n",
    "print(f\"unfortunately {guests[0]},can't make a dinner\")\n",
    "guests[0]=\"hiba\"\n",
    "print(f\"{guests[0]},I want to invite dinner on Friday at 8 PM.\")\n",
    "print(f\"{guests[1]},I want to invite dinner on Friday at 8 PM.\")\n",
    "print(f\"{guests[2]},I want to invite dinner on Friday at 8 PM.\")\n",
    "print(f\"happy! i found a bigger table.so,i can invite more people\")\n",
    "guests.insert(0, 'Rimsha')\n",
    "guests.insert(2,'Rbia')\n",
    "guests.append('shabi')\n",
    "print(f\"{guests[0]},I want to still invite dinner on Friday at 8 PM.\")\n",
    "print(f\"{guests[1]},I want to still invite dinner on Friday at 8 PM.\")\n",
    "print(f\"{guests[2]},I want to still invite dinner on Friday at 8 PM.\")\n",
    "print(f\"{guests[3]},I want to still invite dinner on Friday at 8 PM.\")\n",
    "print(f\"{guests[4]},I want to still invite dinner on Friday at 8 PM.\")\n",
    "print(f\"sorry,i can invite only two people on dinner\")\n",
    "print(f\"sorry {guests.pop()}, i can't invite you on dinner\")\n",
    "print(f\"sorry {guests.pop()}, i can't invite you on dinner\")\n",
    "print(f\"sorry {guests.pop()}, i can't invite you on dinner\")\n",
    "print(f\"sorry {guests.pop()}, i can't invite you on dinner\")\n",
    "print(f\"Dear {guests[0]}, i can sitll invite you on dinner\")\n",
    "print(f\"Dear {guests[1]}, i can still invite you on dinner\")\n",
    "del guests[:]\n",
    "\n",
    "print(guests)"
   ]
  },
  {
   "cell_type": "code",
   "execution_count": 19,
   "metadata": {},
   "outputs": [
    {
     "name": "stdout",
     "output_type": "stream",
     "text": [
      "list in its original order\n",
      "['Lahore', 'gujranwala', 'wazirabad', 'islamabad', 'gujrat']\n",
      "list on its alphabetical order\n",
      "['Lahore', 'gujranwala', 'gujrat', 'islamabad', 'wazirabad']\n",
      "list in its reverse order\n",
      "['gujrat', 'islamabad', 'wazirabad', 'gujranwala', 'Lahore']\n",
      "['Lahore', 'gujranwala', 'gujrat', 'islamabad', 'wazirabad']\n",
      "['wazirabad', 'islamabad', 'gujrat', 'gujranwala', 'Lahore']\n",
      "['wazirabad', 'islamabad', 'gujrat', 'gujranwala', 'Lahore']\n"
     ]
    }
   ],
   "source": [
    "place:list = ['Lahore','gujranwala','wazirabad','islamabad','gujrat']\n",
    "print(f\"list in its original order\")\n",
    "print(place)\n",
    "print(f\"list on its alphabetical order\")\n",
    "print(f'{sorted(place)}')\n",
    "print(f'list in its reverse order')\n",
    "place.reverse()\n",
    "print(place)\n",
    "place.sort()\n",
    "print(place)\n",
    "place.reverse()\n",
    "print(place)\n",
    "place.sort(reverse=True)\n",
    "print(place)"
   ]
  }
 ],
 "metadata": {
  "kernelspec": {
   "display_name": "Python 3",
   "language": "python",
   "name": "python3"
  },
  "language_info": {
   "codemirror_mode": {
    "name": "ipython",
    "version": 3
   },
   "file_extension": ".py",
   "mimetype": "text/x-python",
   "name": "python",
   "nbconvert_exporter": "python",
   "pygments_lexer": "ipython3",
   "version": "3.12.4"
  }
 },
 "nbformat": 4,
 "nbformat_minor": 2
}
